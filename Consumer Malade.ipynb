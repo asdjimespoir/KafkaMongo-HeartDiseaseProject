{
 "cells": [
  {
   "cell_type": "code",
   "execution_count": null,
   "id": "28c5e3c7-ca43-4878-9590-23fb784d20c5",
   "metadata": {},
   "outputs": [],
   "source": [
    "from kafka import KafkaConsumer"
   ]
  },
  {
   "cell_type": "code",
   "execution_count": null,
   "id": "bcb58ffe-a715-4ac7-af9d-cd485360502d",
   "metadata": {},
   "outputs": [],
   "source": [
    "topic_name = 'MaladeUrgence'\n",
    "consumer =KafkaConsumer(topic_name, group_id='new-consumer-Urgence'\n",
    ", auto_offset_reset=\n",
    "\"earliest\",bootstrap_servers= 'localhost:9092')\n",
    "for msg in consumer:\n",
    "    print(msg)\n",
    "break"
   ]
  },
  {
   "cell_type": "code",
   "execution_count": null,
   "id": "1a862d77-0364-49b1-b055-7bbcfb226887",
   "metadata": {},
   "outputs": [],
   "source": []
  }
 ],
 "metadata": {
  "kernelspec": {
   "display_name": "Python 3 (ipykernel)",
   "language": "python",
   "name": "python3"
  },
  "language_info": {
   "codemirror_mode": {
    "name": "ipython",
    "version": 3
   },
   "file_extension": ".py",
   "mimetype": "text/x-python",
   "name": "python",
   "nbconvert_exporter": "python",
   "pygments_lexer": "ipython3",
   "version": "3.9.7"
  }
 },
 "nbformat": 4,
 "nbformat_minor": 5
}
