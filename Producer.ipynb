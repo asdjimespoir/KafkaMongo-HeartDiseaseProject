{
 "cells": [
  {
   "cell_type": "code",
   "execution_count": 35,
   "id": "2083c335-8b8b-4e01-ab2d-40122aa33e0e",
   "metadata": {},
   "outputs": [],
   "source": [
    "import kafka\n",
    "import json\n",
    "import csv\n",
    "import numpy as np\n",
    "from time import *\n",
    "from kafka import KafkaProducer\n",
    "from kafka import KafkaConsumer\n",
    "import pandas as pd\n",
    "import matplotlib.pyplot as plt\n",
    "import seaborn as sns"
   ]
  },
  {
   "cell_type": "code",
   "execution_count": 36,
   "id": "8dae86c0-6713-4807-963d-90489036fc31",
   "metadata": {},
   "outputs": [],
   "source": [
    "df = pd.read_csv('heart.csv')\n",
    "time = df.shape[0]"
   ]
  },
  {
   "cell_type": "code",
   "execution_count": 37,
   "id": "712e294d-96b2-48b3-b95f-691e8f792679",
   "metadata": {},
   "outputs": [],
   "source": [
    "Topic_urgence = 'MaladeUrgence'\n",
    "Topic_ok = 'NonMalade'\n",
    "Topic_ok_sur = 'NonMaladeSurveillance'"
   ]
  },
  {
   "cell_type": "code",
   "execution_count": null,
   "id": "f238a8ff-6aa5-4f52-8854-851b2aad7f42",
   "metadata": {},
   "outputs": [],
   "source": [
    "producer = KafkaProducer(bootstrap_servers='localhost:9092',value_serializer=lambda v:\n",
    "json.dumps(v).encode('utf-8'))\n",
    "TS = 0\n",
    "for i in range(time):\n",
    "    data = dict(df.iloc[i,:])\n",
    "    data['TS']= TS\n",
    "    if data['target']==1:\n",
    "            producer.send(Topic_urgence,value=data)\n",
    "    elif (data['ca']==0) & (data['exang']==0) & (data['oldpeak']==0) & (data['slope']==2) & (data['thalach']>=160):\n",
    "        producer.send(Topic_ok_sur,value=data)\n",
    "    else:\n",
    "        producer.send(Topic_ok,value=data)\n",
    "    TS = TS + 1\n",
    "    sleep(1)\n",
    "    producer.flush()\n"
   ]
  },
  {
   "cell_type": "code",
   "execution_count": null,
   "id": "4d77ecfe-4eed-47c2-98af-d9fb775a2626",
   "metadata": {},
   "outputs": [],
   "source": []
  }
 ],
 "metadata": {
  "kernelspec": {
   "display_name": "Python 3 (ipykernel)",
   "language": "python",
   "name": "python3"
  },
  "language_info": {
   "codemirror_mode": {
    "name": "ipython",
    "version": 3
   },
   "file_extension": ".py",
   "mimetype": "text/x-python",
   "name": "python",
   "nbconvert_exporter": "python",
   "pygments_lexer": "ipython3",
   "version": "3.9.7"
  }
 },
 "nbformat": 4,
 "nbformat_minor": 5
}
