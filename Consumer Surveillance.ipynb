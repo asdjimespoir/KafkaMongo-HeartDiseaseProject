{
 "cells": [
  {
   "cell_type": "code",
   "execution_count": null,
   "id": "21022177-405e-4ccf-8512-bf1981abab40",
   "metadata": {},
   "outputs": [],
   "source": [
    "from kafka import KafkaConsumer"
   ]
  },
  {
   "cell_type": "code",
   "execution_count": null,
   "id": "3a9f86fb-d75d-4d8a-8a88-028989ff225e",
   "metadata": {},
   "outputs": [],
   "source": [
    "topic_name = 'NonMaladeSurveillance'\n",
    "consumer = KafkaConsumer(topic_name, group_id='new-consumer-Surveillance'\n",
    ", auto_offset_reset=\n",
    "\"earliest\",bootstrap_servers= 'localhost:9092')\n",
    "for msg in consumer:\n",
    "    print(msg)\n",
    "break"
   ]
  },
  {
   "cell_type": "code",
   "execution_count": null,
   "id": "d4a36637-805c-40d3-a8e0-aadb90fb9f84",
   "metadata": {},
   "outputs": [],
   "source": []
  }
 ],
 "metadata": {
  "kernelspec": {
   "display_name": "Python 3 (ipykernel)",
   "language": "python",
   "name": "python3"
  },
  "language_info": {
   "codemirror_mode": {
    "name": "ipython",
    "version": 3
   },
   "file_extension": ".py",
   "mimetype": "text/x-python",
   "name": "python",
   "nbconvert_exporter": "python",
   "pygments_lexer": "ipython3",
   "version": "3.9.7"
  }
 },
 "nbformat": 4,
 "nbformat_minor": 5
}
